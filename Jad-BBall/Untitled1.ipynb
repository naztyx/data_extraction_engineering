{
 "cells": [
  {
   "cell_type": "code",
   "execution_count": 1,
   "id": "1eec4aaa-1918-4b8b-866a-294024a12185",
   "metadata": {},
   "outputs": [],
   "source": [
    "import tkinter as tk"
   ]
  },
  {
   "cell_type": "code",
   "execution_count": 5,
   "id": "771ade66-fb44-46c9-8da8-30ada4157610",
   "metadata": {},
   "outputs": [],
   "source": [
    "# Create a scaling factor to convert meters to pixels (e.g., 10 pixels per meter)\n",
    "SCALE = 10\n",
    "\n",
    "# Dimensions of the court (in meters)\n",
    "COURT_LENGTH = 28 * SCALE\n",
    "COURT_WIDTH = 15 * SCALE\n",
    "FREE_THROW_LINE = 5.8 * SCALE\n",
    "KEY_LENGTH = 5.8 * SCALE\n",
    "KEY_WIDTH = 4.9 * SCALE\n",
    "THREE_POINT_RADIUS = 6.75 * SCALE\n",
    "CENTER_CIRCLE_RADIUS = 1.8 * SCALE\n",
    "RIM_RADIUS = 0.225 * SCALE\n",
    "FREE_THROW_RADIUS = 1.8 * SCALE  # Radius of free-throw circle"
   ]
  },
  {
   "cell_type": "code",
   "execution_count": 9,
   "id": "3cb1c0e3-d37f-4b28-8a4e-e79f31c6b4cd",
   "metadata": {},
   "outputs": [],
   "source": [
    "def draw_court(canvas):\n",
    "    # Court outline\n",
    "    canvas.create_rectangle(50, 50, 50 + COURT_LENGTH, 50 + COURT_WIDTH, outline=\"black\", width=2)\n",
    "\n",
    "    # Center circle\n",
    "    canvas.create_oval(50 + COURT_LENGTH / 2 - CENTER_CIRCLE_RADIUS, 50 + COURT_WIDTH / 2 - CENTER_CIRCLE_RADIUS,\n",
    "                       50 + COURT_LENGTH / 2 + CENTER_CIRCLE_RADIUS, 50 + COURT_WIDTH / 2 + CENTER_CIRCLE_RADIUS,\n",
    "                       outline=\"black\", width=2)\n",
    "\n",
    "    # Key area (paint) - both ends\n",
    "    canvas.create_rectangle(50, 50 + (COURT_WIDTH - KEY_WIDTH) / 2, \n",
    "                            50 + KEY_LENGTH, 50 + (COURT_WIDTH + KEY_WIDTH) / 2, outline=\"black\", width=2)\n",
    "    \n",
    "    canvas.create_rectangle(50 + COURT_LENGTH - KEY_LENGTH, 50 + (COURT_WIDTH - KEY_WIDTH) / 2,\n",
    "                            50 + COURT_LENGTH, 50 + (COURT_WIDTH + KEY_WIDTH) / 2, outline=\"black\", width=2)\n",
    "\n",
    "    # Free-throw line - both ends\n",
    "    canvas.create_line(50 + FREE_THROW_LINE, 50 + (COURT_WIDTH - KEY_WIDTH) / 2, \n",
    "                       50 + FREE_THROW_LINE, 50 + (COURT_WIDTH + KEY_WIDTH) / 2, fill=\"black\", width=2)\n",
    "\n",
    "    canvas.create_line(50 + COURT_LENGTH - FREE_THROW_LINE, 50 + (COURT_WIDTH - KEY_WIDTH) / 2, \n",
    "                       50 + COURT_LENGTH - FREE_THROW_LINE, 50 + (COURT_WIDTH + KEY_WIDTH) / 2, fill=\"black\", width=2)\n",
    "\n",
    "    # 3-point arc - both ends\n",
    "    canvas.create_arc(50 + COURT_LENGTH - THREE_POINT_RADIUS * 2, 50 + (COURT_WIDTH / 2 - THREE_POINT_RADIUS),\n",
    "                      50 + COURT_LENGTH, 50 + (COURT_WIDTH / 2 + THREE_POINT_RADIUS), \n",
    "                      start=270, extent=180, outline=\"black\", width=2)\n",
    "\n",
    "    canvas.create_arc(50, 50 + (COURT_WIDTH / 2 - THREE_POINT_RADIUS),\n",
    "                      50 + THREE_POINT_RADIUS * 2, 50 + (COURT_WIDTH / 2 + THREE_POINT_RADIUS),\n",
    "                      start=90, extent=180, outline=\"black\", width=2)\n",
    "\n",
    "    # Baskets (rims) - both ends\n",
    "    canvas.create_oval(50 - RIM_RADIUS, 50 + COURT_WIDTH / 2 - RIM_RADIUS,\n",
    "                       50 + RIM_RADIUS, 50 + COURT_WIDTH / 2 + RIM_RADIUS, outline=\"black\", width=2)\n",
    "\n",
    "    canvas.create_oval(50 + COURT_LENGTH - RIM_RADIUS, 50 + COURT_WIDTH / 2 - RIM_RADIUS,\n",
    "                       50 + COURT_LENGTH + RIM_RADIUS, 50 + COURT_WIDTH / 2 + RIM_RADIUS, outline=\"black\", width=2)\n",
    "\n",
    "\n"
   ]
  },
  {
   "cell_type": "code",
   "execution_count": 10,
   "id": "2ae610c5-c54d-496d-abbd-0215da81d343",
   "metadata": {},
   "outputs": [],
   "source": [
    "# Main tkinter window\n",
    "root = tk.Tk()\n",
    "root.title(\"FIBA Under-17 Basketball Court\")\n",
    "\n",
    "# Create a canvas to draw the court\n",
    "canvas = tk.Canvas(root, width=COURT_LENGTH + 100, height=COURT_WIDTH + 100, bg=\"white\")\n",
    "canvas.pack()\n",
    "\n",
    "# Draw the basketball court\n",
    "draw_court(canvas)\n",
    "\n",
    "# Start the tkinter main loop\n",
    "root.mainloop()"
   ]
  },
  {
   "cell_type": "code",
   "execution_count": null,
   "id": "501d56a6-b8bc-492d-a25f-d81dcc73f323",
   "metadata": {},
   "outputs": [],
   "source": []
  }
 ],
 "metadata": {
  "kernelspec": {
   "display_name": "Python 3 (ipykernel)",
   "language": "python",
   "name": "python3"
  },
  "language_info": {
   "codemirror_mode": {
    "name": "ipython",
    "version": 3
   },
   "file_extension": ".py",
   "mimetype": "text/x-python",
   "name": "python",
   "nbconvert_exporter": "python",
   "pygments_lexer": "ipython3",
   "version": "3.11.4"
  }
 },
 "nbformat": 4,
 "nbformat_minor": 5
}
