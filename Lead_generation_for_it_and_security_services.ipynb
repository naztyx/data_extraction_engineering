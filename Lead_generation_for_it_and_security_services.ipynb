{
 "cells": [
  {
   "cell_type": "markdown",
   "id": "a3d19b91-114b-4f34-85c7-03216d33c14b",
   "metadata": {},
   "source": [
    "# Lead Generation for Startups in Africa That May Require IT or CyberSecurity "
   ]
  },
  {
   "cell_type": "markdown",
   "id": "c2a99eab-2342-4133-b0c0-19e851c4516b",
   "metadata": {},
   "source": [
    "## Selection Criteria"
   ]
  },
  {
   "cell_type": "markdown",
   "id": "a03e6615-1892-4203-8662-b8a6f88d8541",
   "metadata": {},
   "source": [
    "According to Electric.ai report, 47% of small and medium businesses (SMBs) have fallen victims of cyber attacks, 67% of businesses have experienced morethan one breach and 52% of breaches are linked to employee error.\n",
    "\n",
    "With growing concerns over the spate of cyber insecurity and attacks on critical digital infrastructures, yet there's a growing need for expansion of digital presence by SMBs, the need for proper recruitment of IT experts and implementation of top-notch security protocols remains of utmost importance. Below are some of the criteria used to identify busineses that may be in need of professional IT and/or cybersecurity solutions.\n",
    "- Industry type and Compliance needs (Health, Finance, Retail and/or Government institutions)\n",
    "- Companies with recent Security Incidents or Breach news (Data breaches, cyber-security attacks (ransomwares))\n",
    "- Companies undergoing digital upgrades or transfomrations and those exploring and adopting latest technologies (cloud solutions, those developing e-commerce platforms, companies expanding their digital footprints) always require ongoint IT and Security support.\n",
    "- Comapnies seeking to explore remote workforce or a blend of hybrid work models always require IT support to setup vpns, manage devices and apply remote access policies.\n",
    "- Companies looking for IT or security roles on job posting platforms."
   ]
  },
  {
   "cell_type": "markdown",
   "id": "059f03f4-a684-4885-95af-81d7658c66c7",
   "metadata": {},
   "source": [
    "### sources"
   ]
  },
  {
   "cell_type": "code",
   "execution_count": 3,
   "id": "a365fd9d-d202-41c7-b367-d1be398a3145",
   "metadata": {},
   "outputs": [],
   "source": [
    "# !pip install fake_user_agent"
   ]
  },
  {
   "cell_type": "code",
   "execution_count": 4,
   "id": "70034940-665b-4573-badd-3df6718d8000",
   "metadata": {},
   "outputs": [],
   "source": [
    "from selenium import webdriver\n",
    "from selenium.webdriver.common.by import By\n",
    "from selenium.webdriver.chrome.service import Service\n",
    "from selenium.webdriver.common.keys import Keys\n",
    "\n",
    "from fake_useragent import UserAgent\n",
    "\n",
    "import time"
   ]
  },
  {
   "cell_type": "code",
   "execution_count": 10,
   "id": "9f4500e0-f6c1-49b6-8212-fc188204b1c3",
   "metadata": {},
   "outputs": [],
   "source": [
    "ua = UserAgent()"
   ]
  },
  {
   "cell_type": "code",
   "execution_count": 6,
   "id": "151170fb-1a09-4414-9a50-a6d2676e710d",
   "metadata": {},
   "outputs": [],
   "source": [
    "chrome_options = webdriver.ChromeOptions()"
   ]
  },
  {
   "cell_type": "code",
   "execution_count": 7,
   "id": "d42e05d8-ca49-4864-98a8-703df383702c",
   "metadata": {},
   "outputs": [],
   "source": [
    "chrome_options.binary_location = 'C:/chromedriver/chrome-win64/chrome.exe'"
   ]
  },
  {
   "cell_type": "code",
   "execution_count": 8,
   "id": "fe2e44c8-8040-41a8-b2d1-4c370746f2a6",
   "metadata": {},
   "outputs": [],
   "source": [
    "service = Service('C:/chromedriver/chromedriver-win64/chromedriver.exe')"
   ]
  },
  {
   "cell_type": "code",
   "execution_count": 11,
   "id": "01c571dc-bcf7-4f03-901d-27dbd57bef96",
   "metadata": {},
   "outputs": [],
   "source": [
    "chrome_options.add_argument('--start-maximized')\n",
    "chrome_options.add_argument(\"--no-sandbox\")\n",
    "chrome_options.add_argument(\"--enable-javascript\")\n",
    "chrome_options.add_argument(f'user-agent={ua.random}')"
   ]
  },
  {
   "cell_type": "code",
   "execution_count": 12,
   "id": "77eff008-a7bf-49c2-8717-2973efa3deb8",
   "metadata": {},
   "outputs": [],
   "source": [
    "location = ['remote-friendly']\n",
    "industry = ['health-care']"
   ]
  },
  {
   "cell_type": "code",
   "execution_count": 13,
   "id": "16dd87d3-8210-41da-8bc4-bdfbe1712b96",
   "metadata": {},
   "outputs": [],
   "source": [
    "url = f'https://wellfound.com/startups/l/{location[0]}/{industry[0]}'\n",
    "# url = 'https://wellfound.com/startups/l/remote-friendly/health-care'"
   ]
  },
  {
   "cell_type": "code",
   "execution_count": 14,
   "id": "08ea16b7-e8ab-4bc6-8b13-26a70da4fca8",
   "metadata": {},
   "outputs": [
    {
     "name": "stdout",
     "output_type": "stream",
     "text": [
      "Message: target frame detached: received Inspector.detached event\n",
      "  (failed to check if window was closed: disconnected: not connected to DevTools)\n",
      "  (Session info: chrome=130.0.6723.91)\n",
      "Stacktrace:\n",
      "\tGetHandleVerifier [0x00007FF643C93AF5+28005]\n",
      "\t(No symbol) [0x00007FF643BF83F0]\n",
      "\t(No symbol) [0x00007FF643A9580A]\n",
      "\t(No symbol) [0x00007FF643A8535E]\n",
      "\t(No symbol) [0x00007FF643A84156]\n",
      "\t(No symbol) [0x00007FF643A839BD]\n",
      "\t(No symbol) [0x00007FF643A838DA]\n",
      "\t(No symbol) [0x00007FF643A8151E]\n",
      "\t(No symbol) [0x00007FF643A81FCF]\n",
      "\t(No symbol) [0x00007FF643A99DE1]\n",
      "\t(No symbol) [0x00007FF643A9A8CA]\n",
      "\t(No symbol) [0x00007FF643A9E5E7]\n",
      "\t(No symbol) [0x00007FF643A9E6A0]\n",
      "\t(No symbol) [0x00007FF643AE54EA]\n",
      "\t(No symbol) [0x00007FF643AE5D2C]\n",
      "\t(No symbol) [0x00007FF643B2EA97]\n",
      "\t(No symbol) [0x00007FF643B0BA7F]\n",
      "\t(No symbol) [0x00007FF643B2B8B3]\n",
      "\t(No symbol) [0x00007FF643B0B7E3]\n",
      "\t(No symbol) [0x00007FF643AD75C8]\n",
      "\t(No symbol) [0x00007FF643AD8731]\n",
      "\tGetHandleVerifier [0x00007FF643F8646D+3118813]\n",
      "\tGetHandleVerifier [0x00007FF643FD6CC0+3448624]\n",
      "\tGetHandleVerifier [0x00007FF643FCCF3D+3408301]\n",
      "\tGetHandleVerifier [0x00007FF643D5A44B+841403]\n",
      "\t(No symbol) [0x00007FF643C0344F]\n",
      "\t(No symbol) [0x00007FF643BFF4C4]\n",
      "\t(No symbol) [0x00007FF643BFF65D]\n",
      "\t(No symbol) [0x00007FF643BEEBB9]\n",
      "\tBaseThreadInitThunk [0x00007FFEBF6D7374+20]\n",
      "\tRtlUserThreadStart [0x00007FFEC151CC91+33]\n",
      "\n"
     ]
    },
    {
     "ename": "WebDriverException",
     "evalue": "Message: disconnected: not connected to DevTools\n  (failed to check if window was closed: disconnected: not connected to DevTools)\n  (Session info: chrome=130.0.6723.91)\nStacktrace:\n\tGetHandleVerifier [0x00007FF643C93AF5+28005]\n\t(No symbol) [0x00007FF643BF83F0]\n\t(No symbol) [0x00007FF643A9580A]\n\t(No symbol) [0x00007FF643A825BC]\n\t(No symbol) [0x00007FF643A82480]\n\t(No symbol) [0x00007FF643A98181]\n\t(No symbol) [0x00007FF643B2B1D9]\n\t(No symbol) [0x00007FF643B0B7E3]\n\t(No symbol) [0x00007FF643AD75C8]\n\t(No symbol) [0x00007FF643AD8731]\n\tGetHandleVerifier [0x00007FF643F8646D+3118813]\n\tGetHandleVerifier [0x00007FF643FD6CC0+3448624]\n\tGetHandleVerifier [0x00007FF643FCCF3D+3408301]\n\tGetHandleVerifier [0x00007FF643D5A44B+841403]\n\t(No symbol) [0x00007FF643C0344F]\n\t(No symbol) [0x00007FF643BFF4C4]\n\t(No symbol) [0x00007FF643BFF65D]\n\t(No symbol) [0x00007FF643BEEBB9]\n\tBaseThreadInitThunk [0x00007FFEBF6D7374+20]\n\tRtlUserThreadStart [0x00007FFEC151CC91+33]\n",
     "output_type": "error",
     "traceback": [
      "\u001b[1;31m---------------------------------------------------------------------------\u001b[0m",
      "\u001b[1;31mWebDriverException\u001b[0m                        Traceback (most recent call last)",
      "Cell \u001b[1;32mIn[14], line 5\u001b[0m\n\u001b[0;32m      2\u001b[0m driver \u001b[38;5;241m=\u001b[39m webdriver\u001b[38;5;241m.\u001b[39mChrome(service\u001b[38;5;241m=\u001b[39mservice,options\u001b[38;5;241m=\u001b[39mchrome_options)\n\u001b[0;32m      4\u001b[0m \u001b[38;5;28;01mwhile\u001b[39;00m \u001b[38;5;28;01mTrue\u001b[39;00m:\n\u001b[1;32m----> 5\u001b[0m     \u001b[43mdriver\u001b[49m\u001b[38;5;241;43m.\u001b[39;49m\u001b[43mget\u001b[49m\u001b[43m(\u001b[49m\u001b[43murl\u001b[49m\u001b[43m)\u001b[49m\n\u001b[0;32m      6\u001b[0m     \u001b[38;5;28;01mtry\u001b[39;00m:\n\u001b[0;32m      7\u001b[0m         driver\u001b[38;5;241m.\u001b[39mimplicitly_wait(\u001b[38;5;241m10\u001b[39m)\n",
      "File \u001b[1;32m~\\AppData\\Local\\Programs\\Python\\Python312\\Lib\\site-packages\\selenium\\webdriver\\remote\\webdriver.py:363\u001b[0m, in \u001b[0;36mWebDriver.get\u001b[1;34m(self, url)\u001b[0m\n\u001b[0;32m    361\u001b[0m \u001b[38;5;28;01mdef\u001b[39;00m \u001b[38;5;21mget\u001b[39m(\u001b[38;5;28mself\u001b[39m, url: \u001b[38;5;28mstr\u001b[39m) \u001b[38;5;241m-\u001b[39m\u001b[38;5;241m>\u001b[39m \u001b[38;5;28;01mNone\u001b[39;00m:\n\u001b[0;32m    362\u001b[0m \u001b[38;5;250m    \u001b[39m\u001b[38;5;124;03m\"\"\"Loads a web page in the current browser session.\"\"\"\u001b[39;00m\n\u001b[1;32m--> 363\u001b[0m     \u001b[38;5;28;43mself\u001b[39;49m\u001b[38;5;241;43m.\u001b[39;49m\u001b[43mexecute\u001b[49m\u001b[43m(\u001b[49m\u001b[43mCommand\u001b[49m\u001b[38;5;241;43m.\u001b[39;49m\u001b[43mGET\u001b[49m\u001b[43m,\u001b[49m\u001b[43m \u001b[49m\u001b[43m{\u001b[49m\u001b[38;5;124;43m\"\u001b[39;49m\u001b[38;5;124;43murl\u001b[39;49m\u001b[38;5;124;43m\"\u001b[39;49m\u001b[43m:\u001b[49m\u001b[43m \u001b[49m\u001b[43murl\u001b[49m\u001b[43m}\u001b[49m\u001b[43m)\u001b[49m\n",
      "File \u001b[1;32m~\\AppData\\Local\\Programs\\Python\\Python312\\Lib\\site-packages\\selenium\\webdriver\\remote\\webdriver.py:354\u001b[0m, in \u001b[0;36mWebDriver.execute\u001b[1;34m(self, driver_command, params)\u001b[0m\n\u001b[0;32m    352\u001b[0m response \u001b[38;5;241m=\u001b[39m \u001b[38;5;28mself\u001b[39m\u001b[38;5;241m.\u001b[39mcommand_executor\u001b[38;5;241m.\u001b[39mexecute(driver_command, params)\n\u001b[0;32m    353\u001b[0m \u001b[38;5;28;01mif\u001b[39;00m response:\n\u001b[1;32m--> 354\u001b[0m     \u001b[38;5;28;43mself\u001b[39;49m\u001b[38;5;241;43m.\u001b[39;49m\u001b[43merror_handler\u001b[49m\u001b[38;5;241;43m.\u001b[39;49m\u001b[43mcheck_response\u001b[49m\u001b[43m(\u001b[49m\u001b[43mresponse\u001b[49m\u001b[43m)\u001b[49m\n\u001b[0;32m    355\u001b[0m     response[\u001b[38;5;124m\"\u001b[39m\u001b[38;5;124mvalue\u001b[39m\u001b[38;5;124m\"\u001b[39m] \u001b[38;5;241m=\u001b[39m \u001b[38;5;28mself\u001b[39m\u001b[38;5;241m.\u001b[39m_unwrap_value(response\u001b[38;5;241m.\u001b[39mget(\u001b[38;5;124m\"\u001b[39m\u001b[38;5;124mvalue\u001b[39m\u001b[38;5;124m\"\u001b[39m, \u001b[38;5;28;01mNone\u001b[39;00m))\n\u001b[0;32m    356\u001b[0m     \u001b[38;5;28;01mreturn\u001b[39;00m response\n",
      "File \u001b[1;32m~\\AppData\\Local\\Programs\\Python\\Python312\\Lib\\site-packages\\selenium\\webdriver\\remote\\errorhandler.py:229\u001b[0m, in \u001b[0;36mErrorHandler.check_response\u001b[1;34m(self, response)\u001b[0m\n\u001b[0;32m    227\u001b[0m         alert_text \u001b[38;5;241m=\u001b[39m value[\u001b[38;5;124m\"\u001b[39m\u001b[38;5;124malert\u001b[39m\u001b[38;5;124m\"\u001b[39m]\u001b[38;5;241m.\u001b[39mget(\u001b[38;5;124m\"\u001b[39m\u001b[38;5;124mtext\u001b[39m\u001b[38;5;124m\"\u001b[39m)\n\u001b[0;32m    228\u001b[0m     \u001b[38;5;28;01mraise\u001b[39;00m exception_class(message, screen, stacktrace, alert_text)  \u001b[38;5;66;03m# type: ignore[call-arg]  # mypy is not smart enough here\u001b[39;00m\n\u001b[1;32m--> 229\u001b[0m \u001b[38;5;28;01mraise\u001b[39;00m exception_class(message, screen, stacktrace)\n",
      "\u001b[1;31mWebDriverException\u001b[0m: Message: disconnected: not connected to DevTools\n  (failed to check if window was closed: disconnected: not connected to DevTools)\n  (Session info: chrome=130.0.6723.91)\nStacktrace:\n\tGetHandleVerifier [0x00007FF643C93AF5+28005]\n\t(No symbol) [0x00007FF643BF83F0]\n\t(No symbol) [0x00007FF643A9580A]\n\t(No symbol) [0x00007FF643A825BC]\n\t(No symbol) [0x00007FF643A82480]\n\t(No symbol) [0x00007FF643A98181]\n\t(No symbol) [0x00007FF643B2B1D9]\n\t(No symbol) [0x00007FF643B0B7E3]\n\t(No symbol) [0x00007FF643AD75C8]\n\t(No symbol) [0x00007FF643AD8731]\n\tGetHandleVerifier [0x00007FF643F8646D+3118813]\n\tGetHandleVerifier [0x00007FF643FD6CC0+3448624]\n\tGetHandleVerifier [0x00007FF643FCCF3D+3408301]\n\tGetHandleVerifier [0x00007FF643D5A44B+841403]\n\t(No symbol) [0x00007FF643C0344F]\n\t(No symbol) [0x00007FF643BFF4C4]\n\t(No symbol) [0x00007FF643BFF65D]\n\t(No symbol) [0x00007FF643BEEBB9]\n\tBaseThreadInitThunk [0x00007FFEBF6D7374+20]\n\tRtlUserThreadStart [0x00007FFEC151CC91+33]\n"
     ]
    }
   ],
   "source": [
    "# initialize the driver\n",
    "driver = webdriver.Chrome(service=service,options=chrome_options)\n",
    "\n",
    "while True:\n",
    "    driver.get(url)\n",
    "    try:\n",
    "        driver.implicitly_wait(10)\n",
    "        outer_level_collection = driver.find_element(By.CSS_SELECTOR, 'div.mt-4.flex.w-full.flex-col.gap-6')\n",
    "        inner_level_collection = outer_level_collection.find_elements(By.CSS_SELECTOR, 'div.rounded-lg.border.border-gray-400')\n",
    "\n",
    "        for startup in inner_level_collection:\n",
    "            head = startup.find_element(By.CSS_SELECTOR, 'div.pl-2.flex.flex-col')\n",
    "            startup_name = head.find_element(By.CSS_SELECTOR, 'h2.inline.text-md.font-semibold')\n",
    "            startup_name = startup_name.text\n",
    "            print(startup_name)\n",
    "\n",
    "            recruitment = head.find_element(By.CSS_SELECTOR, 'div.flex.items-center.text-sm.font-medium.text-pop-green')\n",
    "            recruitment = recruitment.text\n",
    "            print(recruitment)\n",
    "\n",
    "            workforce = head.find_elementn(By.CSS_SELECTOR, 'span.text-xs.italic.text-neutral-500')\n",
    "            workforce = workforce.text\n",
    "            print(workforce)\n",
    "    \n",
    "    except Exception as e:\n",
    "        print(f'{e}')\n",
    "\n",
    "driver.quit()"
   ]
  },
  {
   "cell_type": "code",
   "execution_count": null,
   "id": "3344256f-f0b0-4e12-8799-ad40a0860cff",
   "metadata": {},
   "outputs": [],
   "source": []
  }
 ],
 "metadata": {
  "kernelspec": {
   "display_name": "Python 3 (ipykernel)",
   "language": "python",
   "name": "python3"
  },
  "language_info": {
   "codemirror_mode": {
    "name": "ipython",
    "version": 3
   },
   "file_extension": ".py",
   "mimetype": "text/x-python",
   "name": "python",
   "nbconvert_exporter": "python",
   "pygments_lexer": "ipython3",
   "version": "3.12.4"
  }
 },
 "nbformat": 4,
 "nbformat_minor": 5
}
