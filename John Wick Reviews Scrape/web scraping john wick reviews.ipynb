{
 "cells": [
  {
   "cell_type": "markdown",
   "id": "4e83689a",
   "metadata": {},
   "source": [
    "# TITLE: WEBSCRAPING JOHN WICK REVIEWS"
   ]
  },
  {
   "cell_type": "code",
   "execution_count": 48,
   "id": "f8e70a70",
   "metadata": {},
   "outputs": [],
   "source": [
    "from selenium import webdriver\n",
    "from selenium.webdriver.common.keys import Keys\n",
    "from selenium.webdriver.chrome.service import Service\n",
    "from selenium.webdriver.common.by import By\n",
    "from selenium.webdriver.support import expected_conditions as EC\n",
    "from selenium.webdriver.support.ui import WebDriverWait\n",
    "\n",
    "from bs4 import BeautifulSoup\n",
    "from requests_html import AsyncHTMLSession, HTMLSession\n",
    "\n",
    "import pandas as pd\n",
    "import time"
   ]
  },
  {
   "cell_type": "code",
   "execution_count": 7,
   "id": "201c65bc-2d87-4f60-b5ca-96251ee95d7d",
   "metadata": {},
   "outputs": [],
   "source": [
    "chrome_options = webdriver.ChromeOptions()\n",
    "\n",
    "chrome_options.binary_location = 'C:/chromedriver/chrome-win64/chrome.exe'\n",
    "chrome_options.add_argument(\"--disable-notifications\")\n",
    "chrome_options.add_argument('--start-maximized')"
   ]
  },
  {
   "cell_type": "code",
   "execution_count": 8,
   "id": "8f0b8162-c54c-4ce6-8d54-54abbc34b4b3",
   "metadata": {},
   "outputs": [],
   "source": [
    "service = Service('C:/chromedriver/chromedriver-win64/chromedriver.exe')"
   ]
  },
  {
   "cell_type": "code",
   "execution_count": 9,
   "id": "ca30b9a4",
   "metadata": {},
   "outputs": [],
   "source": [
    "url = 'https://www.imdb.com/title/tt10366206/reviews'\n",
    "test = 'https://www.imdb.com/title/tt18559464/reviews/?ref_=tt_ov_urv'"
   ]
  },
  {
   "cell_type": "markdown",
   "id": "e000a1bc",
   "metadata": {},
   "source": [
    "## scroll to bottom until \"Load More\" button is visible and click it\n",
    "## keep clicking until all reviews are loaded"
   ]
  },
  {
   "cell_type": "code",
   "execution_count": 49,
   "id": "728653af",
   "metadata": {},
   "outputs": [
    {
     "name": "stdout",
     "output_type": "stream",
     "text": [
      "Error: Message: element click intercepted: Element is not clickable at point (98, -489)\n",
      "  (Session info: chrome=131.0.6778.85)\n",
      "Stacktrace:\n",
      "\tGetHandleVerifier [0x00007FF701D76CB5+28821]\n",
      "\t(No symbol) [0x00007FF701CE3840]\n",
      "\t(No symbol) [0x00007FF701B8578A]\n",
      "\t(No symbol) [0x00007FF701BE0E8E]\n",
      "\t(No symbol) [0x00007FF701BDE92C]\n",
      "\t(No symbol) [0x00007FF701BDBAF6]\n",
      "\t(No symbol) [0x00007FF701BDAA51]\n",
      "\t(No symbol) [0x00007FF701BCCBA0]\n",
      "\t(No symbol) [0x00007FF701BFF2FA]\n",
      "\t(No symbol) [0x00007FF701BCC3F6]\n",
      "\t(No symbol) [0x00007FF701BFF510]\n",
      "\t(No symbol) [0x00007FF701C1F412]\n",
      "\t(No symbol) [0x00007FF701BFF0A3]\n",
      "\t(No symbol) [0x00007FF701BCA778]\n",
      "\t(No symbol) [0x00007FF701BCB8E1]\n",
      "\tGetHandleVerifier [0x00007FF7020AFCAD+3408013]\n",
      "\tGetHandleVerifier [0x00007FF7020C741F+3504127]\n",
      "\tGetHandleVerifier [0x00007FF7020BB5FD+3455453]\n",
      "\tGetHandleVerifier [0x00007FF701E3BDBB+835995]\n",
      "\t(No symbol) [0x00007FF701CEEB5F]\n",
      "\t(No symbol) [0x00007FF701CEA814]\n",
      "\t(No symbol) [0x00007FF701CEA9AD]\n",
      "\t(No symbol) [0x00007FF701CDA199]\n",
      "\tBaseThreadInitThunk [0x00007FFE9D917374+20]\n",
      "\tRtlUserThreadStart [0x00007FFE9F5BCC91+33]\n",
      "\n",
      "1\n"
     ]
    }
   ],
   "source": [
    "driver = webdriver.Chrome(service=service,options=chrome_options)\n",
    "\n",
    "driver.get(test)\n",
    "\n",
    "#zoom in 75%\n",
    "#driver.execute_script(\"document.body.style.zoom='80%'\")\n",
    "\n",
    "cnt = 0\n",
    "try:\n",
    "    while True:\n",
    "        try:\n",
    "            # Scroll down to the bottom of the page\n",
    "            driver.execute_script('window.scrollBy(0, document.body.scrollHeight);')\n",
    "            time.sleep(2)\n",
    "\n",
    "            # Locate the \"Load More\" button\n",
    "            load_more = WebDriverWait(driver, 10).until(\n",
    "                EC.presence_of_element_located((By.CSS_SELECTOR, 'span.ipc-see-more.sc-33e570c-0.cMGrFN.single-page-see-more-button'))\n",
    "            )\n",
    "\n",
    "            # Scroll to \"Load More\" button\n",
    "            driver.execute_script(\"arguments[0].scrollIntoView({ behavior: 'smooth', block: 'center' });\", load_more)\n",
    "\n",
    "            # Wait until the button is clickable\n",
    "            WebDriverWait(driver, 10).until(\n",
    "                EC.element_to_be_clickable((By.CSS_SELECTOR, 'span.ipc-see-more.sc-33e570c-0.cMGrFN.single-page-see-more-button'))\n",
    "            )\n",
    "\n",
    "            # Click the button\n",
    "            load_more.click()\n",
    "            cnt += 1\n",
    "        except Exception as e:\n",
    "            print(f\"Error: {e}\")\n",
    "            break\n",
    "except Exception as e:\n",
    "    print(f\"Error: {e}\")\n",
    "        \n",
    "#close browser but keep the webdriver session active\n",
    "#driver.close()\n",
    "\n",
    "print(cnt)\n",
    "    "
   ]
  },
  {
   "cell_type": "code",
   "execution_count": null,
   "id": "9062fa1a",
   "metadata": {},
   "outputs": [],
   "source": [
    "# parse the driver content to a bs html object\n",
    "\n",
    "bs = BeautifulSoup(driver.page_source, 'html.parser')"
   ]
  },
  {
   "cell_type": "code",
   "execution_count": 8,
   "id": "235d0a23",
   "metadata": {},
   "outputs": [],
   "source": [
    "reviews = bs.findAll('div', attrs={'class':'lister-item-content'})"
   ]
  },
  {
   "cell_type": "code",
   "execution_count": 9,
   "id": "a491498d",
   "metadata": {},
   "outputs": [
    {
     "name": "stdout",
     "output_type": "stream",
     "text": [
      "Total number of reviews = 716\n"
     ]
    }
   ],
   "source": [
    "print('Total number of reviews = ' + str(len(reviews)))"
   ]
  },
  {
   "cell_type": "code",
   "execution_count": 10,
   "id": "21bd30e4",
   "metadata": {},
   "outputs": [],
   "source": [
    "# [tag.name for tag in review_links[2].find_all()]"
   ]
  },
  {
   "cell_type": "code",
   "execution_count": 11,
   "id": "321aad33",
   "metadata": {},
   "outputs": [],
   "source": [
    "# print(reviews[0].find('span', attrs={'class':\"display-name-link\"}).text.strip())\n",
    "# print(reviews[0].find('span').text.strip().replace('/10', ''))\n",
    "# print(reviews[0].find('a', attrs={'class':'title'}).text.strip())\n",
    "# print(reviews[0].find('div', attrs={'class':'content'}).text)"
   ]
  },
  {
   "cell_type": "code",
   "execution_count": 12,
   "id": "063982ec",
   "metadata": {},
   "outputs": [],
   "source": [
    "# t = reviews[0].find('div', attrs={'class':'content'})\n",
    "# tx = t.text.strip().split('\\n')\n",
    "# # print(tx.strip().replace('<br/><br/>', ''))\n",
    "\n",
    "# # h = t.find('div', attrs={'class':'actions text-muted'}).text.strip()\n",
    "\n",
    "# print(tx[0])"
   ]
  },
  {
   "cell_type": "code",
   "execution_count": 13,
   "id": "3fe8d8f5",
   "metadata": {},
   "outputs": [],
   "source": [
    "# create empty lists\n",
    "\n",
    "users = []\n",
    "ratings = []\n",
    "titles = []\n",
    "reviews_ = []\n",
    "# was_it_helpful = []"
   ]
  },
  {
   "cell_type": "code",
   "execution_count": 14,
   "id": "e67484fb",
   "metadata": {},
   "outputs": [],
   "source": [
    "# reviews"
   ]
  },
  {
   "cell_type": "code",
   "execution_count": 15,
   "id": "9b1f6bb0",
   "metadata": {},
   "outputs": [],
   "source": [
    "#extract name of user, ratings out of 10, review for each user and append to the dictionary\n",
    "\n",
    "for review in reviews:\n",
    "    users.append(review.find('span', attrs={'class':\"display-name-link\"}).text.strip())\n",
    "    \n",
    "    ratings.append(review.find('span').text.strip().replace('/10', ''))\n",
    "    \n",
    "    titles.append(review.find('a', attrs={'class':'title'}).text.strip())    \n",
    "                 \n",
    "    review_div = review.find('div', attrs={'class':'content'})\n",
    "    rev = review_div.text.strip().split('\\n')\n",
    "#    helpful = review_div.find('div',attrs={'class':'actions text-muted'}).text.strip()\n",
    "    \n",
    "    reviews_.append(rev[0])\n",
    "    \n",
    "#    was_it_helpful.append(helpful.split('\\n')[0])\n",
    "    "
   ]
  },
  {
   "cell_type": "code",
   "execution_count": 16,
   "id": "a45b90db",
   "metadata": {},
   "outputs": [],
   "source": [
    "# print(len(users))\n",
    "# print(len(ratings))\n",
    "# print(len(titles))\n",
    "# print(len(reviews_))\n",
    "# print(reviews_[1])"
   ]
  },
  {
   "cell_type": "code",
   "execution_count": 17,
   "id": "2912fe50",
   "metadata": {},
   "outputs": [],
   "source": [
    "# import re\n",
    "# r = review_links[6].find('div', attrs={'class':'content'}).text.strip().replace('\\\\','')\n",
    "# print(r)"
   ]
  },
  {
   "cell_type": "code",
   "execution_count": 18,
   "id": "00667c02",
   "metadata": {},
   "outputs": [],
   "source": [
    "# print(re.sub('\\[\\]','',t))"
   ]
  },
  {
   "cell_type": "code",
   "execution_count": 19,
   "id": "4ab0bd43",
   "metadata": {},
   "outputs": [],
   "source": [
    "#create a dictionary to be used in building the pandas dataframe\n",
    "\n",
    "dictionary_of_reviews = {'users': users, 'ratings': ratings, 'titles': titles, 'reviews': reviews_}"
   ]
  },
  {
   "cell_type": "code",
   "execution_count": 20,
   "id": "ff7d3b87",
   "metadata": {},
   "outputs": [],
   "source": [
    "## close the webdriver session by calling the selenium quit() function\n",
    "driver.close()"
   ]
  },
  {
   "cell_type": "markdown",
   "id": "e73f9c31",
   "metadata": {},
   "source": [
    "## import pandas and save-to csv, excel files as needed"
   ]
  },
  {
   "cell_type": "code",
   "execution_count": 21,
   "id": "1d0191c6",
   "metadata": {},
   "outputs": [],
   "source": [
    "import pandas as pd"
   ]
  },
  {
   "cell_type": "code",
   "execution_count": 22,
   "id": "a363945c",
   "metadata": {},
   "outputs": [],
   "source": [
    "reviews_df = pd.DataFrame(dictionary_of_reviews)"
   ]
  },
  {
   "cell_type": "code",
   "execution_count": 23,
   "id": "20195c01",
   "metadata": {},
   "outputs": [
    {
     "data": {
      "text/html": [
       "<div>\n",
       "<style scoped>\n",
       "    .dataframe tbody tr th:only-of-type {\n",
       "        vertical-align: middle;\n",
       "    }\n",
       "\n",
       "    .dataframe tbody tr th {\n",
       "        vertical-align: top;\n",
       "    }\n",
       "\n",
       "    .dataframe thead th {\n",
       "        text-align: right;\n",
       "    }\n",
       "</style>\n",
       "<table border=\"1\" class=\"dataframe\">\n",
       "  <thead>\n",
       "    <tr style=\"text-align: right;\">\n",
       "      <th></th>\n",
       "      <th>users</th>\n",
       "      <th>ratings</th>\n",
       "      <th>titles</th>\n",
       "      <th>reviews</th>\n",
       "    </tr>\n",
       "  </thead>\n",
       "  <tbody>\n",
       "    <tr>\n",
       "      <th>0</th>\n",
       "      <td>FeastMode</td>\n",
       "      <td>9</td>\n",
       "      <td>A new standard has been set for fight scenes</td>\n",
       "      <td>Half of this review will be me gushing about t...</td>\n",
       "    </tr>\n",
       "    <tr>\n",
       "      <th>1</th>\n",
       "      <td>markvanwasbeek</td>\n",
       "      <td>9</td>\n",
       "      <td>Yeah</td>\n",
       "      <td>By now you know what to expect from a John Wic...</td>\n",
       "    </tr>\n",
       "    <tr>\n",
       "      <th>2</th>\n",
       "      <td>cadillac20</td>\n",
       "      <td>10</td>\n",
       "      <td>Not Just The Best John Wick, But Possibly One ...</td>\n",
       "      <td>Ever since the original John Wick, the franchi...</td>\n",
       "    </tr>\n",
       "    <tr>\n",
       "      <th>3</th>\n",
       "      <td>tkdlifemagazine</td>\n",
       "      <td>9</td>\n",
       "      <td>The Best John Wick Sequel</td>\n",
       "      <td>John Wick: Chapter 4 picks up where Chapter 3:...</td>\n",
       "    </tr>\n",
       "    <tr>\n",
       "      <th>4</th>\n",
       "      <td>tresm87</td>\n",
       "      <td>9</td>\n",
       "      <td>While the Wick franchise has already solidifie...</td>\n",
       "      <td>Stuntman turned writer/director Chad Stahelski...</td>\n",
       "    </tr>\n",
       "  </tbody>\n",
       "</table>\n",
       "</div>"
      ],
      "text/plain": [
       "             users ratings                                             titles  \\\n",
       "0        FeastMode       9       A new standard has been set for fight scenes   \n",
       "1   markvanwasbeek       9                                               Yeah   \n",
       "2       cadillac20      10  Not Just The Best John Wick, But Possibly One ...   \n",
       "3  tkdlifemagazine       9                          The Best John Wick Sequel   \n",
       "4          tresm87       9  While the Wick franchise has already solidifie...   \n",
       "\n",
       "                                             reviews  \n",
       "0  Half of this review will be me gushing about t...  \n",
       "1  By now you know what to expect from a John Wic...  \n",
       "2  Ever since the original John Wick, the franchi...  \n",
       "3  John Wick: Chapter 4 picks up where Chapter 3:...  \n",
       "4  Stuntman turned writer/director Chad Stahelski...  "
      ]
     },
     "execution_count": 23,
     "metadata": {},
     "output_type": "execute_result"
    }
   ],
   "source": [
    "reviews_df.head()"
   ]
  },
  {
   "cell_type": "code",
   "execution_count": 24,
   "id": "4dc8faa1",
   "metadata": {},
   "outputs": [
    {
     "data": {
      "text/plain": [
       "\"Half of this review will be me gushing about the action. Wow. Just wow. I was in complete awe. There were multiple times I was both tearing up and laughing at how unbelievably amazing the fight scenes are. Now this is nothing new for the John Wick series. But for me, this is far and away the best action of the entire series.I'm an action junkie and am repeatedly disappointed with action movies and their terrible fight scenes, filled with shaky cam, quick cuts and close-up shots (looking at you Snake Eyes and Mortal Kombat). Then I watch a John Wick movie and feel so spoiled, while also being baffled at why other action movies can't learn from this. The fights are so fast-paced yet completely clear and easy to follow.There is every kind of action imaginable. So many weapons, styles, chases, vehicles, animals, everything. So much creativity with the kills. Amazing combinations of weaponry and fighting styles (gun/sword combo is my fave).The music is awesome as usual, maybe even a step up. It enhances every action scene. The cinematography is pristine. So many beautiful shots, so many mesmerizing locations for the action. It is stylistically beautiful.There are a couple of scenes that are shot in such a creative way that I've never seen before. One is an overhead shot one-take that I couldn't believe. It takes the movie to a new level. So many scenes feel like they're a video game brought to life. Numerous times it feels like the VR game Pistol Whip.Donnie Yen is awesome. End of paragraph.About an hour into this nearly 3-hour movie, I felt like I experienced enough action amazingness for an entire movie. I was in a state of ecstasy. Not only was this looking like the best of the series, I started wondering if this would be a landmark action flick. Maybe it's my own fault for setting expectations so high mid-movie, but the second half is more flawed, though still awesome.The subplot with the tracker doesn't seem at all consequential. And his dog attacks were already done, and better, with Halle Berry in Parabellum. A few of the issues I had with Parabellum pop up again, like overdoing it sometimes with the damage he takes. For example, instead of getting hit by one car, he gets hit by three cars. And that's a mild example. Also, it's fairly anticlimactic.Even with those flaws, I had a BLAST with this movie and will definitely see it at least once more in theaters. Seeing it on a premium screen is a must. Loudest speakers, biggest screen. TRUST ME.EDIT: I was itching to go again since opening night. I wasn't able to wait more than 5 days. On second viewing, I still felt the same flaws, but I didn't care. The action is incredible. It has at least three of my all-time favorite action scenes. I want to watch these scenes a hundred times.It's definitely not perfect, but I still consider it an action landmark (last time I said that was Mad Max: Fury Road). Every other action movie should learn from this. Updating rating from 8 to 9 stars. (2 viewings, opening Thursday UltraScreen 3/23/2023, UltraScreen 3/28/2023)\""
      ]
     },
     "execution_count": 24,
     "metadata": {},
     "output_type": "execute_result"
    }
   ],
   "source": [
    "reviews_df['reviews'][0]"
   ]
  },
  {
   "cell_type": "code",
   "execution_count": null,
   "id": "8056d2c9",
   "metadata": {},
   "outputs": [],
   "source": []
  },
  {
   "cell_type": "markdown",
   "id": "da01c19d",
   "metadata": {},
   "source": [
    "## save to csv and excel file"
   ]
  },
  {
   "cell_type": "code",
   "execution_count": 25,
   "id": "cc9e3937",
   "metadata": {},
   "outputs": [],
   "source": [
    "#save to csv\n",
    "reviews_df.to_csv('John Wick Reviews.csv', index=False)"
   ]
  },
  {
   "cell_type": "code",
   "execution_count": 26,
   "id": "dfadc42f",
   "metadata": {},
   "outputs": [],
   "source": [
    "#save to excel\n",
    "reviews_df.to_excel('John Wick Reviews.xlsx')"
   ]
  },
  {
   "cell_type": "code",
   "execution_count": 27,
   "id": "25b23831",
   "metadata": {},
   "outputs": [],
   "source": [
    "#save to json\n",
    "\n",
    "from json import loads, dumps\n",
    "\n",
    "reviews_df.to_json('john wick reviews.json', orient='records')"
   ]
  },
  {
   "cell_type": "code",
   "execution_count": 28,
   "id": "7e6fd6e4",
   "metadata": {},
   "outputs": [
    {
     "data": {
      "text/html": [
       "<div>\n",
       "<style scoped>\n",
       "    .dataframe tbody tr th:only-of-type {\n",
       "        vertical-align: middle;\n",
       "    }\n",
       "\n",
       "    .dataframe tbody tr th {\n",
       "        vertical-align: top;\n",
       "    }\n",
       "\n",
       "    .dataframe thead th {\n",
       "        text-align: right;\n",
       "    }\n",
       "</style>\n",
       "<table border=\"1\" class=\"dataframe\">\n",
       "  <thead>\n",
       "    <tr style=\"text-align: right;\">\n",
       "      <th></th>\n",
       "      <th>users</th>\n",
       "      <th>ratings</th>\n",
       "      <th>titles</th>\n",
       "      <th>reviews</th>\n",
       "    </tr>\n",
       "  </thead>\n",
       "  <tbody>\n",
       "    <tr>\n",
       "      <th>0</th>\n",
       "      <td>FeastMode</td>\n",
       "      <td>9</td>\n",
       "      <td>A new standard has been set for fight scenes</td>\n",
       "      <td>Half of this review will be me gushing about t...</td>\n",
       "    </tr>\n",
       "    <tr>\n",
       "      <th>1</th>\n",
       "      <td>markvanwasbeek</td>\n",
       "      <td>9</td>\n",
       "      <td>Yeah</td>\n",
       "      <td>By now you know what to expect from a John Wic...</td>\n",
       "    </tr>\n",
       "    <tr>\n",
       "      <th>2</th>\n",
       "      <td>cadillac20</td>\n",
       "      <td>10</td>\n",
       "      <td>Not Just The Best John Wick, But Possibly One ...</td>\n",
       "      <td>Ever since the original John Wick, the franchi...</td>\n",
       "    </tr>\n",
       "    <tr>\n",
       "      <th>3</th>\n",
       "      <td>tkdlifemagazine</td>\n",
       "      <td>9</td>\n",
       "      <td>The Best John Wick Sequel</td>\n",
       "      <td>John Wick: Chapter 4 picks up where Chapter 3:...</td>\n",
       "    </tr>\n",
       "    <tr>\n",
       "      <th>4</th>\n",
       "      <td>tresm87</td>\n",
       "      <td>9</td>\n",
       "      <td>While the Wick franchise has already solidifie...</td>\n",
       "      <td>Stuntman turned writer/director Chad Stahelski...</td>\n",
       "    </tr>\n",
       "    <tr>\n",
       "      <th>...</th>\n",
       "      <td>...</td>\n",
       "      <td>...</td>\n",
       "      <td>...</td>\n",
       "      <td>...</td>\n",
       "    </tr>\n",
       "    <tr>\n",
       "      <th>711</th>\n",
       "      <td>winsonchow</td>\n",
       "      <td>10</td>\n",
       "      <td>Such as life</td>\n",
       "      <td>Love it love it love it!! Awesome fights scene...</td>\n",
       "    </tr>\n",
       "    <tr>\n",
       "      <th>712</th>\n",
       "      <td>proulxalex</td>\n",
       "      <td>8</td>\n",
       "      <td>A ridiculous comedic action movie?</td>\n",
       "      <td>Well... how to begin?While the movie is super ...</td>\n",
       "    </tr>\n",
       "    <tr>\n",
       "      <th>713</th>\n",
       "      <td>heydarniyam</td>\n",
       "      <td>10</td>\n",
       "      <td>Mesmerizing more than ever</td>\n",
       "      <td>JW 4 has the potential to be the best of the f...</td>\n",
       "    </tr>\n",
       "    <tr>\n",
       "      <th>714</th>\n",
       "      <td>hugoermann</td>\n",
       "      <td>10</td>\n",
       "      <td>Amazing</td>\n",
       "      <td>Loved the movie. Was dying to see this and mov...</td>\n",
       "    </tr>\n",
       "    <tr>\n",
       "      <th>715</th>\n",
       "      <td>ksethi-30375</td>\n",
       "      <td>10</td>\n",
       "      <td>THE BEST John Wick movie ever</td>\n",
       "      <td>Great action sequences, next level camera work...</td>\n",
       "    </tr>\n",
       "  </tbody>\n",
       "</table>\n",
       "<p>716 rows × 4 columns</p>\n",
       "</div>"
      ],
      "text/plain": [
       "               users ratings  \\\n",
       "0          FeastMode       9   \n",
       "1     markvanwasbeek       9   \n",
       "2         cadillac20      10   \n",
       "3    tkdlifemagazine       9   \n",
       "4            tresm87       9   \n",
       "..               ...     ...   \n",
       "711       winsonchow      10   \n",
       "712       proulxalex       8   \n",
       "713      heydarniyam      10   \n",
       "714       hugoermann      10   \n",
       "715     ksethi-30375      10   \n",
       "\n",
       "                                                titles  \\\n",
       "0         A new standard has been set for fight scenes   \n",
       "1                                                 Yeah   \n",
       "2    Not Just The Best John Wick, But Possibly One ...   \n",
       "3                            The Best John Wick Sequel   \n",
       "4    While the Wick franchise has already solidifie...   \n",
       "..                                                 ...   \n",
       "711                                       Such as life   \n",
       "712                 A ridiculous comedic action movie?   \n",
       "713                         Mesmerizing more than ever   \n",
       "714                                            Amazing   \n",
       "715                      THE BEST John Wick movie ever   \n",
       "\n",
       "                                               reviews  \n",
       "0    Half of this review will be me gushing about t...  \n",
       "1    By now you know what to expect from a John Wic...  \n",
       "2    Ever since the original John Wick, the franchi...  \n",
       "3    John Wick: Chapter 4 picks up where Chapter 3:...  \n",
       "4    Stuntman turned writer/director Chad Stahelski...  \n",
       "..                                                 ...  \n",
       "711  Love it love it love it!! Awesome fights scene...  \n",
       "712  Well... how to begin?While the movie is super ...  \n",
       "713  JW 4 has the potential to be the best of the f...  \n",
       "714  Loved the movie. Was dying to see this and mov...  \n",
       "715  Great action sequences, next level camera work...  \n",
       "\n",
       "[716 rows x 4 columns]"
      ]
     },
     "execution_count": 28,
     "metadata": {},
     "output_type": "execute_result"
    }
   ],
   "source": [
    "# read the json file\n",
    "parse_ = pd.read_json('john wick reviews.json')\n",
    "parse_"
   ]
  },
  {
   "cell_type": "code",
   "execution_count": null,
   "id": "0f137bdb",
   "metadata": {},
   "outputs": [],
   "source": []
  },
  {
   "cell_type": "code",
   "execution_count": 29,
   "id": "327693de",
   "metadata": {},
   "outputs": [],
   "source": [
    "# response = await session.get(url)"
   ]
  },
  {
   "cell_type": "code",
   "execution_count": 30,
   "id": "d0727c10",
   "metadata": {},
   "outputs": [],
   "source": [
    "# await response.html.arender()"
   ]
  },
  {
   "cell_type": "code",
   "execution_count": 31,
   "id": "b5725aaa",
   "metadata": {},
   "outputs": [],
   "source": [
    "# response.html.raw_html.decode()"
   ]
  }
 ],
 "metadata": {
  "kernelspec": {
   "display_name": "Python 3 (ipykernel)",
   "language": "python",
   "name": "python3"
  },
  "language_info": {
   "codemirror_mode": {
    "name": "ipython",
    "version": 3
   },
   "file_extension": ".py",
   "mimetype": "text/x-python",
   "name": "python",
   "nbconvert_exporter": "python",
   "pygments_lexer": "ipython3",
   "version": "3.11.4"
  }
 },
 "nbformat": 4,
 "nbformat_minor": 5
}
