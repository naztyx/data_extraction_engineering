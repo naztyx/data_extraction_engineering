{
 "cells": [
  {
   "cell_type": "code",
   "execution_count": 1,
   "id": "938ca085-5aad-42ce-a37d-675e6a7c5008",
   "metadata": {},
   "outputs": [],
   "source": [
    "from selenium import webdriver\n",
    "from selenium.webdriver.common.by import By\n",
    "from selenium.webdriver.chrome.service import Service\n",
    "from selenium.webdriver.common.keys import Keys\n",
    "import pandas as pd\n",
    "\n",
    "from dotenv import load_dotenv\n",
    "import os\n",
    "\n",
    "import time"
   ]
  },
  {
   "cell_type": "code",
   "execution_count": 2,
   "id": "f1498c1d-d01d-48a3-b19f-4ec6b5d113c9",
   "metadata": {},
   "outputs": [
    {
     "data": {
      "text/plain": [
       "True"
      ]
     },
     "execution_count": 2,
     "metadata": {},
     "output_type": "execute_result"
    }
   ],
   "source": [
    "load_dotenv()"
   ]
  },
  {
   "cell_type": "code",
   "execution_count": 5,
   "id": "1441e1ee-5b8f-4201-9a0c-1cbb00938b65",
   "metadata": {},
   "outputs": [],
   "source": [
    "# key = os.getenv('password')"
   ]
  },
  {
   "cell_type": "code",
   "execution_count": 6,
   "id": "deaf4e44-5dad-493d-a226-47662ad140e1",
   "metadata": {},
   "outputs": [],
   "source": [
    "chrome_options = webdriver.ChromeOptions()"
   ]
  },
  {
   "cell_type": "code",
   "execution_count": 7,
   "id": "57d41163-6c57-4fba-bb1c-6e18df9587ab",
   "metadata": {},
   "outputs": [],
   "source": [
    "chrome_options.binary_location = 'C:/chromedriver/chrome-win64/chrome.exe'"
   ]
  },
  {
   "cell_type": "code",
   "execution_count": 8,
   "id": "d8e03765-d094-4a15-996e-649dbd3c5ec2",
   "metadata": {},
   "outputs": [],
   "source": [
    "chrome_options.add_argument(\"--disable-notifications\")"
   ]
  },
  {
   "cell_type": "code",
   "execution_count": 9,
   "id": "e0e53ff0-ea24-49d3-bccf-6e3414d68ab2",
   "metadata": {},
   "outputs": [],
   "source": [
    "chrome_options.add_argument('--start-maximized')"
   ]
  },
  {
   "cell_type": "code",
   "execution_count": 10,
   "id": "49ddbf23-7d9d-4acc-a1d6-d21f54f5afd3",
   "metadata": {},
   "outputs": [],
   "source": [
    "service = Service('C:/chromedriver/chromedriver-win64/chromedriver.exe')"
   ]
  },
  {
   "cell_type": "code",
   "execution_count": 11,
   "id": "4ae6c015-1e3c-4159-857b-736cdb089954",
   "metadata": {},
   "outputs": [],
   "source": [
    "url = 'https://web.facebook.com/watch/1647220425338831/599052234608714'"
   ]
  },
  {
   "cell_type": "code",
   "execution_count": 14,
   "id": "2401dd65-6ba2-44df-9dd2-d1413593e3a2",
   "metadata": {},
   "outputs": [
    {
     "name": "stdout",
     "output_type": "stream",
     "text": [
      "0\n",
      "0\n",
      "Message: no such element: Unable to locate element: {\"method\":\"css selector\",\"selector\":\"div.x1jx94hy.x1lcm9me.x1yr5g0i.xrt01vj.x10y3i5r.xyamay9.x1pi30zi.x1l90r2v.x1swvt13\"}\n",
      "  (Session info: chrome=130.0.6723.69); For documentation on this error, please visit: https://www.selenium.dev/documentation/webdriver/troubleshooting/errors#no-such-element-exception\n",
      "Stacktrace:\n",
      "\tGetHandleVerifier [0x00007FF7AB0A3AB5+28005]\n",
      "\t(No symbol) [0x00007FF7AB0083B0]\n",
      "\t(No symbol) [0x00007FF7AAEA580A]\n",
      "\t(No symbol) [0x00007FF7AAEF5A3E]\n",
      "\t(No symbol) [0x00007FF7AAEF5D2C]\n",
      "\t(No symbol) [0x00007FF7AAF3EA97]\n",
      "\t(No symbol) [0x00007FF7AAF1BA7F]\n",
      "\t(No symbol) [0x00007FF7AAF3B8B3]\n",
      "\t(No symbol) [0x00007FF7AAF1B7E3]\n",
      "\t(No symbol) [0x00007FF7AAEE75C8]\n",
      "\t(No symbol) [0x00007FF7AAEE8731]\n",
      "\tGetHandleVerifier [0x00007FF7AB39643D+3118829]\n",
      "\tGetHandleVerifier [0x00007FF7AB3E6C90+3448640]\n",
      "\tGetHandleVerifier [0x00007FF7AB3DCF0D+3408317]\n",
      "\tGetHandleVerifier [0x00007FF7AB16A40B+841403]\n",
      "\t(No symbol) [0x00007FF7AB01340F]\n",
      "\t(No symbol) [0x00007FF7AB00F484]\n",
      "\t(No symbol) [0x00007FF7AB00F61D]\n",
      "\t(No symbol) [0x00007FF7AAFFEB79]\n",
      "\tBaseThreadInitThunk [0x00007FFA10337374+20]\n",
      "\tRtlUserThreadStart [0x00007FFA10D9CC91+33]\n",
      "\n"
     ]
    }
   ],
   "source": [
    "# initialize the driver\n",
    "driver = webdriver.Chrome(service=service,options=chrome_options)\n",
    "\n",
    "try:\n",
    "    driver.get(url)\n",
    "    driver.implicitly_wait(2)\n",
    "\n",
    "    email = driver.find_element(By.XPATH, '/html/body/div[1]/div/div[1]/div/div[5]/div/div/div[1]/div/div[2]/div/div/div/div[2]/form/div/div[3]/div/div/label/div/input')\n",
    "    email.send_keys(os.getenv('email'))\n",
    "    time.sleep(2)\n",
    "    password = driver.find_element(By.XPATH, '/html/body/div[1]/div/div[1]/div/div[5]/div/div/div[1]/div/div[2]/div/div/div/div[2]/form/div/div[4]/div/div/label/div[1]/input')\n",
    "    password.send_keys(os.getenv('password'))\n",
    "    time.sleep(2)\n",
    "    submit = driver.find_element(By.XPATH, '/html/body/div[1]/div/div[1]/div/div[5]/div/div/div[1]/div/div[2]/div/div/div/div[2]/form/div/div[5]/div/div')\n",
    "    submit.click()\n",
    "\n",
    "    time.sleep(10)\n",
    "    \n",
    "    initial_height = driver.execute_script('return document.body.scrollHeight')\n",
    "    print(f'{initial_height}')\n",
    "    \n",
    "    while True:\n",
    "        driver.execute_script('window.scrollTo(0, document.body.scrollHeight);')\n",
    "        time.sleep(2)\n",
    "\n",
    "        new_height = driver.execute_script('return document.body.scrollHeight;')\n",
    "        # check if you've reached the bottom of the page\n",
    "        if new_height == initial_height:\n",
    "            break\n",
    "        initial_height = new_height\n",
    "\n",
    "    print(str(initial_height))\n",
    "    \n",
    "    all_links = driver.find_element(By.CSS_SELECTOR, 'div.x1jx94hy.x1lcm9me.x1yr5g0i.xrt01vj.x10y3i5r.xyamay9.x1pi30zi.x1l90r2v.x1swvt13')\n",
    "    all_links = all_links.find_elements(By.CLASS_NAME, 'x1n2onr6')\n",
    "    print(len(all_links))\n",
    "    for program in all_links:\n",
    "        title = program.find_element(By.XPATH, \"//span[contains(@class, 'x1lliihq x6ikm8r x10wlt62 x1n2onr6 x1j85h84')]\")\n",
    "        # likes = program.find_element(By.CSS_SELECTOR, 'span.x6ikm8r.x10wlt62.xlyipyv')\n",
    "        # comments = program.find_element(By.CSS_SELECTOR, 'span.x193iq5w.xeuugli.x13faqbe.x1vvkbs.x1xmvt09.x1nxh6w3.x1sibtaa.xo1l8bm.xi81zsa')\n",
    "        # views = program.find_element(By.CSS_SELECTOR, 'div.xt0e3qv')\n",
    "        # print(f'Title:{title.text}\\nLikes: {likes}\\nComments: {comments}\\nViews: {views}')\n",
    "        print(title.text)\n",
    "        break\n",
    "except Exception as e:\n",
    "    print(f'{e}')\n",
    "finally:\n",
    "    driver.quit()"
   ]
  },
  {
   "cell_type": "code",
   "execution_count": null,
   "id": "10136fd8-9ca9-4e90-a509-d947085f2d42",
   "metadata": {},
   "outputs": [],
   "source": []
  }
 ],
 "metadata": {
  "kernelspec": {
   "display_name": "Python 3 (ipykernel)",
   "language": "python",
   "name": "python3"
  },
  "language_info": {
   "codemirror_mode": {
    "name": "ipython",
    "version": 3
   },
   "file_extension": ".py",
   "mimetype": "text/x-python",
   "name": "python",
   "nbconvert_exporter": "python",
   "pygments_lexer": "ipython3",
   "version": "3.11.4"
  }
 },
 "nbformat": 4,
 "nbformat_minor": 5
}
