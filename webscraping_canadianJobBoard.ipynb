{
 "cells": [
  {
   "cell_type": "code",
   "execution_count": 1,
   "id": "4c849c90-e805-4627-b3a6-7d09715ffa5e",
   "metadata": {},
   "outputs": [],
   "source": [
    "from selenium import webdriver\n",
    "from selenium.webdriver.common.by import By\n",
    "from selenium.webdriver.chrome.service import Service\n",
    "from selenium.webdriver.common.keys import Keys\n",
    "\n",
    "import time"
   ]
  },
  {
   "cell_type": "code",
   "execution_count": 2,
   "id": "0d0a7c0a-131c-4f4f-b8f1-cd8540c02608",
   "metadata": {},
   "outputs": [],
   "source": [
    "chrome_options = webdriver.ChromeOptions()"
   ]
  },
  {
   "cell_type": "code",
   "execution_count": 3,
   "id": "aebe78d3-2107-465c-a8cb-ad7fd9d2a89d",
   "metadata": {},
   "outputs": [],
   "source": [
    "chrome_options.binary_location = 'C:/chromedriver/chrome-win64/chrome.exe'"
   ]
  },
  {
   "cell_type": "code",
   "execution_count": 4,
   "id": "53d5c1bc-74d5-4916-9095-8f6866f222cd",
   "metadata": {},
   "outputs": [],
   "source": [
    "service = Service('C:/chromedriver/chromedriver-win64/chromedriver.exe')"
   ]
  },
  {
   "cell_type": "code",
   "execution_count": 5,
   "id": "8f0a785a-a99d-4c5e-8845-bb4befcd1238",
   "metadata": {},
   "outputs": [],
   "source": [
    "chrome_options.add_argument('--start-maximized')"
   ]
  },
  {
   "cell_type": "code",
   "execution_count": 6,
   "id": "1d32e308-1011-437d-aabc-ffc92cac0925",
   "metadata": {},
   "outputs": [],
   "source": [
    "url = 'https://canadajobbank.org/latest-jobs/'"
   ]
  },
  {
   "cell_type": "code",
   "execution_count": null,
   "id": "beea1b55-7498-4efc-a777-0e2480f6b7a2",
   "metadata": {},
   "outputs": [],
   "source": [
    "vignette = 'https://canadajobbank.org/latest-jobs/#google_vignette'"
   ]
  },
  {
   "cell_type": "code",
   "execution_count": 7,
   "id": "1287f996-b2fa-4a10-a5d8-9ec850357cab",
   "metadata": {},
   "outputs": [],
   "source": [
    "employer_name = []\n",
    "position = []\n",
    "number_of_vacancies = []\n",
    "salary = []\n",
    "employment_type = []\n",
    "location = []"
   ]
  },
  {
   "cell_type": "code",
   "execution_count": 8,
   "id": "edb226cb-7c3f-4341-b3b9-8cb05810aa97",
   "metadata": {},
   "outputs": [
    {
     "name": "stdout",
     "output_type": "stream",
     "text": [
      "30\n",
      "Forklift operator: https://canadajobbank.org/forklift-operator-52/\n",
      "30\n",
      "Forklift operator: https://canadajobbank.org/forklift-operator-52/\n",
      "Message: element click intercepted: Element <div class=\"widget-pagination-wrapper\">...</div> is not clickable at point (674, 25). Other element would receive the click: <iframe id=\"aswift_2\" name=\"aswift_2\" browsingtopics=\"true\" style=\"width: 100vw !important; height: 100vh !important; inset: 0px auto auto 0px !important; position: absolute !important; clear: none !important; display: inline !important; float: none !important; margin: 0px !important; max-height: none !important; max-width: none !important; opacity: 1 !important; overflow: visible !important; padding: 0px !important; vertical-align: baseline !important; visibility: visible !important; z-index: auto !important;\" sandbox=\"allow-forms allow-popups allow-popups-to-escape-sandbox allow-same-origin allow-scripts allow-top-navigation-by-user-activation\" width=\"\" height=\"\" frameborder=\"0\" marginwidth=\"0\" marginheight=\"0\" vspace=\"0\" hspace=\"0\" allowtransparency=\"true\" scrolling=\"no\" allow=\"attribution-reporting; run-ad-auction\" src=\"https://googleads.g.doubleclick.net/pagead/html/r20241120/r20190131/zrt_lookup_fy2021.html#RS-0-&amp;adk=2969136048&amp;client=ca-pub-1961972939510111&amp;fa=8&amp;ifi=3&amp;uci=a!3\" data-google-container-id=\"a!3\" tabindex=\"0\" title=\"Advertisement\" aria-label=\"Advertisement\" data-google-query-id=\"CMvSqqu-_okDFetuFQgdY-8r8A\" data-load-complete=\"true\"></iframe>\n",
      "  (Session info: chrome=131.0.6778.85)\n",
      "Stacktrace:\n",
      "\tGetHandleVerifier [0x00007FF67B7E6CB5+28821]\n",
      "\t(No symbol) [0x00007FF67B753840]\n",
      "\t(No symbol) [0x00007FF67B5F578A]\n",
      "\t(No symbol) [0x00007FF67B650E8E]\n",
      "\t(No symbol) [0x00007FF67B64E92C]\n",
      "\t(No symbol) [0x00007FF67B64BAF6]\n",
      "\t(No symbol) [0x00007FF67B64AA51]\n",
      "\t(No symbol) [0x00007FF67B63CBA0]\n",
      "\t(No symbol) [0x00007FF67B66F2FA]\n",
      "\t(No symbol) [0x00007FF67B63C3F6]\n",
      "\t(No symbol) [0x00007FF67B66F510]\n",
      "\t(No symbol) [0x00007FF67B68F412]\n",
      "\t(No symbol) [0x00007FF67B66F0A3]\n",
      "\t(No symbol) [0x00007FF67B63A778]\n",
      "\t(No symbol) [0x00007FF67B63B8E1]\n",
      "\tGetHandleVerifier [0x00007FF67BB1FCAD+3408013]\n",
      "\tGetHandleVerifier [0x00007FF67BB3741F+3504127]\n",
      "\tGetHandleVerifier [0x00007FF67BB2B5FD+3455453]\n",
      "\tGetHandleVerifier [0x00007FF67B8ABDBB+835995]\n",
      "\t(No symbol) [0x00007FF67B75EB5F]\n",
      "\t(No symbol) [0x00007FF67B75A814]\n",
      "\t(No symbol) [0x00007FF67B75A9AD]\n",
      "\t(No symbol) [0x00007FF67B74A199]\n",
      "\tBaseThreadInitThunk [0x00007FFF38287374+20]\n",
      "\tRtlUserThreadStart [0x00007FFF39BDCC91+33]\n",
      "\n"
     ]
    }
   ],
   "source": [
    "# initialize the driver\n",
    "driver = webdriver.Chrome(service=service,options=chrome_options)\n",
    "\n",
    "try:\n",
    "    driver.get(url)\n",
    "    \n",
    "    while True:     \n",
    "        # driver.execute_script(\"window.scrollTo(0, document.body.scrollHeight - 10);\")        \n",
    "        total_jobs_element = driver.find_element(By.CLASS_NAME, 'widget-posts-list-wrapper')\n",
    "        each_job_element = total_jobs_element.find_elements(By.CSS_SELECTOR, 'a.post-title.the-subtitle')\n",
    "        print(len(each_job_element))\n",
    "        for job in each_job_element:\n",
    "            title = job.text\n",
    "            link = job.get_attribute('href')\n",
    "            try:\n",
    "                driver.get(link)\n",
    "                post = driver.find_element(By.XPATH, '/html/body/div[1]/div/div/div/div/div/div/article/div[1]/p[2]')\n",
    "                details = post.text.split('\\n')\n",
    "                employer_name.append(details[0].split(':')[1])\n",
    "                position.append(details[0].split(':')[1])\n",
    "                number_of_vacancies.append(details[0].split(':')[1])\n",
    "                salary.append(details[0].split(':')[1])\n",
    "                employment_type.append(details[0].split(':')[1])\n",
    "                location.append(details[0].split(':')[1])            \n",
    "                driver.back()\n",
    "                print(f'{title}: {link}')\n",
    "                break\n",
    "            except Exception as e:\n",
    "                driver.refresh()\n",
    "      \n",
    "        show_more = driver.find_element(By.CLASS_NAME, 'widget-pagination-wrapper')\n",
    "        driver.execute_script(\"arguments[0].scrollIntoView();\", show_more)\n",
    "        show_more.click()\n",
    "        time.sleep(2)\n",
    "        # job_position = driver.find_element(By.)\n",
    "except Exception as e:\n",
    "    print(f'{e}')\n",
    "finally:\n",
    "    driver.quit()"
   ]
  },
  {
   "cell_type": "code",
   "execution_count": null,
   "id": "e8236b1d-b81c-4092-8d0b-03f9b23fe0b2",
   "metadata": {},
   "outputs": [],
   "source": []
  }
 ],
 "metadata": {
  "kernelspec": {
   "display_name": "Python 3 (ipykernel)",
   "language": "python",
   "name": "python3"
  },
  "language_info": {
   "codemirror_mode": {
    "name": "ipython",
    "version": 3
   },
   "file_extension": ".py",
   "mimetype": "text/x-python",
   "name": "python",
   "nbconvert_exporter": "python",
   "pygments_lexer": "ipython3",
   "version": "3.11.4"
  }
 },
 "nbformat": 4,
 "nbformat_minor": 5
}
